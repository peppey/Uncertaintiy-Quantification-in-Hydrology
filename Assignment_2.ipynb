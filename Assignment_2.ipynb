{
 "cells": [
  {
   "cell_type": "code",
   "execution_count": 1,
   "metadata": {
    "id": "meXBpUSqyu-n"
   },
   "outputs": [],
   "source": [
    "import math\n",
    "import numpy as np\n",
    "import plotly.graph_objects as go\n",
    "from plotly.subplots import make_subplots\n",
    "import random\n",
    "\n",
    "from SALib.sample import saltelli\n",
    "from SALib.analyze import sobol\n",
    "\n",
    "\n",
    "# Label axes, also with units\n",
    "# Can the indices be negative?\n",
    "\n",
    "\n",
    "# Aquifer thickness b [m]\n",
    "b = 10\n",
    "\n",
    "# Hydraulic Conductivity from Cobuto, 1999 (adapted): 10^-4 - 10^-2 [m/s]\n",
    "Kmin = 1e-04 * 86400\n",
    "Kmax = 1e-02 * 86400\n",
    "\n",
    "# Specific yield Sy from Johnson, 1967: 0.21 - 0.35 [-]\n",
    "Sy_min = 0.21\n",
    "Sy_max = 0.35\n",
    "\n",
    "# Calculating D using eq. (2) from Sawyer et al., 2014\n",
    "Dmin_temp = (Kmin*b)/Sy_max\n",
    "Dmax_temp = (Kmax*b)/Sy_min\n",
    "\n",
    "Dmin = math.log(Dmin_temp, 10) # lower bound for diffusivity\n",
    "Dmax = math.log(Dmax_temp, 10) # upper bound for diffusivity\n",
    "phi = 0 # phase\n",
    "\n",
    "def solution(x, t, A, omega, D, phi):\n",
    "  \"\"\"This is the function which gives back the hydraulic head\n",
    "  omega: frequency\n",
    "  A: amplitude\n",
    "  x: distance\n",
    "  t: time\"\"\"\n",
    "  sinus = math.sin(-x*math.sqrt(omega/(2*D))+ omega*t + phi)\n",
    "  ret = A*math.exp(-x*math.sqrt(omega/(2*D)))*sinus\n",
    "  return ret \n",
    "\n",
    "\n"
   ]
  },
  {
   "cell_type": "code",
   "execution_count": 42,
   "metadata": {},
   "outputs": [],
   "source": [
    "class Result:\n",
    "   def __repr__(self):\n",
    "    return 'D={}, A={}, w={}, x={}, t={}, hxt={}'.format(\n",
    "      self.D,\n",
    "      self.A,\n",
    "      self.w,\n",
    "      self.x,\n",
    "      self.t,\n",
    "      self.hxt,        \n",
    "    )\n",
    "\n",
    "def calculate_hxt_for_one_variable(D_input, A_input, w_input, x_input, t_input):\n",
    "  fun1 = A_input * math.exp(-x_input * math.sqrt(w_input / (2*D_input)))\n",
    "  fun2 = math.sin(-x_input * math.sqrt((w_input / (2*D_input)) + ((w_input * t_input) )))\n",
    "  return fun1 * fun2"
   ]
  },
  {
   "cell_type": "code",
   "execution_count": 48,
   "metadata": {},
   "outputs": [],
   "source": [
    "# Define a general function to generate n different realizations of the hydraulic head.\n",
    "def calculate_hxt(x_vector, t_vector, A_vector, w_vector, D_vector):\n",
    "\tresults = []\n",
    "\n",
    "\tfor simulation_index in range(0, TOTAL_NUMBER_OF_SIMULATIONS):\n",
    "\t\ttemp_result = Result()\n",
    "\n",
    "\t\tfor x_index in range(0, len(x_vector)):\n",
    "\t\t\tfor t_index in range(0, len(t_vector)):\n",
    "\t\t\t\ttemp_result = Result()\t\t\t\t\n",
    "\t\t\t\ttemp_result.D = D_vector[simulation_index]\n",
    "\t\t\t\ttemp_result.A = A_vector[simulation_index]\n",
    "\t\t\t\ttemp_result.w = w_vector[simulation_index]\n",
    "\t\t\t\ttemp_result.x = x_vector[x_index]\n",
    "\t\t\t\ttemp_result.t = t_vector[t_index]\n",
    "\t\t\t\ttemp_result.hxt = solution(temp_result.x, temp_result.t,temp_result.A, temp_result.w,  temp_result.D, phi)\n",
    "\t\t\t\t#temp_result.hxt = calculate_hxt_for_one_variable(temp_result.D, temp_result.A, temp_result.w, temp_result.x, temp_result.t)\n",
    "\t\t\t\tresults.append(temp_result.hxt)\n",
    "\n",
    "\treturn results"
   ]
  },
  {
   "cell_type": "code",
   "execution_count": 49,
   "metadata": {
    "id": "UdHyoKkPzXF1"
   },
   "outputs": [
    {
     "name": "stdout",
     "output_type": "stream",
     "text": [
      "7945.180877311971\n",
      "0.3855004979778874\n",
      "2.022225396950915\n"
     ]
    }
   ],
   "source": [
    "num_of_simulations = 10000\n",
    "\n",
    "# vectors with 10000 samples of the parameters in matrix A & B\n",
    "D_vector_A = [10**((Dmax - Dmin)*random.random() + Dmin) for _ in range(num_of_simulations)]\n",
    "A_vector_A = [10**(random.random() - 1) for _ in range(num_of_simulations)]\n",
    "omega_vector_A = [ (math.pi - 2*math.pi/7)*random.random() + 2*math.pi/7 for _ in range(num_of_simulations)]\n",
    "\n",
    "print(statistics.mean(D_vector_A))\n",
    "print(statistics.mean(A_vector_A))\n",
    "print(statistics.mean(omega_vector_A))\n",
    "\n",
    "\n",
    "\n",
    "D_vector_B = [10**((Dmax - Dmin)*random.random() + Dmin) for _ in range(num_of_simulations)]\n",
    "A_vector_B = [10**(random.random() - 1) for _ in range(num_of_simulations)]\n",
    "omega_vector_B = [ (math.pi - 2*math.pi/7)*random.random() + 2*math.pi/7 for _ in range(num_of_simulations)]"
   ]
  },
  {
   "cell_type": "code",
   "execution_count": 50,
   "metadata": {
    "id": "UtAZwKshxlDv"
   },
   "outputs": [],
   "source": [
    "def calculate_solution(x, t, A_vector, omega_vector, D_vector):\n",
    "    # return 10000 simulations of the hydraulic head\n",
    "    y = []\n",
    "\n",
    "    for idx in range(num_of_simulations):\n",
    "        hydraulic_head = solution(x, t, A_vector[idx], omega_vector[idx], D_vector[idx], phi)\n",
    "        y.append(hydraulic_head)\n",
    "  \n",
    "    return y"
   ]
  },
  {
   "cell_type": "code",
   "execution_count": 55,
   "metadata": {
    "colab": {
     "base_uri": "https://localhost:8080/"
    },
    "id": "k6RvvTHxz0Qa",
    "outputId": "2877699b-5dd0-4a3e-da61-4d7455f4e2a9"
   },
   "outputs": [
    {
     "name": "stdout",
     "output_type": "stream",
     "text": [
      "0.0021193041927398838\n",
      "S_A=0.027941285625285653\n",
      "S_omega=0.6986768613897302\n",
      "S_D=0.01832442640315155\n",
      " \n",
      "1.867158725790679e-05\n",
      "S_A=0.0033640467097938724\n",
      "S_omega=0.7161772328923017\n",
      "S_D=0.0077254027562441725\n",
      " \n",
      "3.934947209639036e-06\n",
      "S_A=-0.02739965193147865\n",
      "S_omega=0.7200161422795919\n",
      "S_D=-0.009765864708170402\n",
      " \n",
      "0.001345784514752668\n",
      "S_A=0.032447673770399976\n",
      "S_omega=0.6681737338700149\n",
      "S_D=0.020355956324925397\n",
      " \n",
      "6.858668186703359e-06\n",
      "S_A=0.004944371473340439\n",
      "S_omega=0.6856981603032151\n",
      "S_D=0.006514668676603486\n",
      " \n",
      "-3.567672674589156e-07\n",
      "S_A=-0.023182738836143833\n",
      "S_omega=0.6856531376653113\n",
      "S_D=-0.006790679938136604\n",
      " \n",
      "3.278746142604365e-05\n",
      "S_A=-0.003131656597817001\n",
      "S_omega=0.2958513007790431\n",
      "S_D=0.02257848810023752\n",
      " \n",
      "-1.3814502292553339e-06\n",
      "S_A=0.009881932790706666\n",
      "S_omega=0.2983528022567091\n",
      "S_D=0.014283572656811551\n",
      " \n",
      "-1.2984987073556988e-06\n",
      "S_A=-0.015580126280666465\n",
      "S_omega=0.3006458390308325\n",
      "S_D=-0.005894147495209085\n",
      " \n"
     ]
    }
   ],
   "source": [
    "distances = [1, 10, 100] # given in meters\n",
    "timesteps = [7, 30, 180] # given in days\n",
    "\n",
    "import statistics\n",
    "\n",
    "TOTAL_NUMBER_OF_SIMULATIONS = 10000\n",
    "\n",
    "for x in distances:\n",
    "    for t in timesteps:\n",
    "\n",
    "        y_A = calculate_solution(x, t, A_vector_A, omega_vector_A, D_vector_A)\n",
    "        y_B = calculate_solution(x, t, A_vector_B, omega_vector_B, D_vector_B)\n",
    "        y_C_1 = calculate_solution(x, t, A_vector_A, omega_vector_B, D_vector_B)\n",
    "        y_C_2 = calculate_solution(x, t, A_vector_B, omega_vector_A, D_vector_B)\n",
    "        y_C_3 = calculate_solution(x, t, A_vector_B, omega_vector_B, D_vector_A)\n",
    "\n",
    "\n",
    "        avg = (sum(y_A)/num_of_simulations) * (sum(y_B)/num_of_simulations)\n",
    "        print(avg)\n",
    "        \n",
    "        # First order sensitivity indices\n",
    "        S_1 = ((sum([hyd_head_A*hyd_head_B for hyd_head_A, hyd_head_B in zip(y_A, y_C_1)]) / num_of_simulations) - avg) / ((sum([hyd_head_A ** 2 for hyd_head_A in y_A]) / num_of_simulations) - avg)\n",
    "        S_2 = ((sum([hyd_head_A*hyd_head_B for hyd_head_A, hyd_head_B in zip(y_A, y_C_2)]) / num_of_simulations) - avg) / ((sum([hyd_head_A ** 2 for hyd_head_A in y_A]) / num_of_simulations) - avg)\n",
    "        S_3 = ((sum([hyd_head_A*hyd_head_B for hyd_head_A, hyd_head_B in zip(y_A, y_C_3)]) / num_of_simulations) - avg) / ((sum([hyd_head_A ** 2 for hyd_head_A in y_A]) / num_of_simulations) - avg)\n",
    "\n",
    "        print('S_A='+str(S_1))\n",
    "        print('S_omega='+str(S_2))\n",
    "        print('S_D='+str(S_3))\n",
    "        print(\" \")"
   ]
  },
  {
   "cell_type": "code",
   "execution_count": 56,
   "metadata": {
    "id": "o_4LwXn_-Tej"
   },
   "outputs": [
    {
     "name": "stderr",
     "output_type": "stream",
     "text": [
      "C:\\Users\\z004n49n\\AppData\\Local\\Temp\\ipykernel_15968\\4211220531.py:10: DeprecationWarning: `salib.sample.saltelli` will be removed in SALib 1.5. Please use `salib.sample.sobol`\n",
      "  param_values = saltelli.sample(inpt, N = 2**13, calc_second_order=True)\n"
     ]
    }
   ],
   "source": [
    "inpt = {\n",
    "    'num_vars': 3,\n",
    "    'names': ['A', 'w', 'D'],\n",
    "    'bounds': [[10**(-1) , 1],\n",
    "               [(2*math.pi)/7, (2*math.pi)/2],\n",
    "               [10**Dmin, 10**Dmax]],\n",
    "    'dists': ['unif', 'unif', 'unif'] \n",
    "}\n",
    "\n",
    "param_values = saltelli.sample(inpt, N = 2**13, calc_second_order=True)"
   ]
  },
  {
   "cell_type": "code",
   "execution_count": 57,
   "metadata": {
    "id": "u6R4-ahkDIbh"
   },
   "outputs": [],
   "source": [
    "def return_hydraulic_head(values, x_input, t_input):\n",
    "    Y = np.zeros([values.shape[0]])\n",
    "    for i,X in enumerate(values):\n",
    "          Y[i] = (X[0] * math.exp(-x_input * math.sqrt(X[1] / (2*X[2])))) * (math.sin(-x_input * math.sqrt(X[1] / (2*X[2])) + ((X[1] * t_input))))  \n",
    "    return Y"
   ]
  },
  {
   "cell_type": "code",
   "execution_count": 58,
   "metadata": {
    "colab": {
     "base_uri": "https://localhost:8080/"
    },
    "id": "01y2EtDeBdhA",
    "outputId": "288929c4-3851-44e6-c070-e3b0aca7becf"
   },
   "outputs": [
    {
     "name": "stdout",
     "output_type": "stream",
     "text": [
      "         ST   ST_conf\n",
      "A  0.187392  0.005687\n",
      "w  0.994485  0.032765\n",
      "D  0.000079  0.000008\n",
      "         S1   S1_conf\n",
      "A  0.006209  0.014352\n",
      "w  0.813115  0.025905\n",
      "D -0.000004  0.000288\n",
      "              S2   S2_conf\n",
      "(A, w)  0.181223  0.022996\n",
      "(A, D) -0.000002  0.024733\n",
      "(w, D)  0.000039  0.026299\n",
      "         ST   ST_conf\n",
      "A  0.182562  0.006614\n",
      "w  1.003610  0.027098\n",
      "D  0.000084  0.000010\n",
      "         S1   S1_conf\n",
      "A -0.005315  0.013417\n",
      "w  0.826339  0.023261\n",
      "D -0.000173  0.000235\n",
      "              S2   S2_conf\n",
      "(A, w)  0.187888  0.021472\n",
      "(A, D)  0.010564  0.024681\n",
      "(w, D)  0.000102  0.021771\n",
      "         ST   ST_conf\n",
      "A  0.182512  0.006576\n",
      "w  0.948832  0.029939\n",
      "D  0.000077  0.000008\n",
      "         S1   S1_conf\n",
      "A  0.009402  0.012546\n",
      "w  0.774192  0.026218\n",
      "D -0.000072  0.000261\n",
      "              S2   S2_conf\n",
      "(A, w)  0.173808  0.021875\n",
      "(A, D) -0.000055  0.022275\n",
      "(w, D)  0.002118  0.021967\n",
      "         ST   ST_conf\n",
      "A  0.187426  0.006916\n",
      "w  0.994044  0.033581\n",
      "D  0.006445  0.000625\n",
      "         S1   S1_conf\n",
      "A  0.006210  0.013332\n",
      "w  0.807621  0.028830\n",
      "D -0.000329  0.002321\n",
      "              S2   S2_conf\n",
      "(A, w)  0.180168  0.022148\n",
      "(A, D)  0.000265  0.023497\n",
      "(w, D)  0.005619  0.024660\n",
      "         ST   ST_conf\n",
      "A  0.182449  0.007281\n",
      "w  1.003599  0.033210\n",
      "D  0.006661  0.000719\n",
      "         S1   S1_conf\n",
      "A -0.005091  0.013148\n",
      "w  0.820689  0.026231\n",
      "D -0.001096  0.002377\n",
      "              S2   S2_conf\n",
      "(A, w)  0.187006  0.021947\n",
      "(A, D)  0.009437  0.025837\n",
      "(w, D)  0.006282  0.020013\n",
      "         ST   ST_conf\n",
      "A  0.182467  0.006259\n",
      "w  0.953838  0.037741\n",
      "D  0.006212  0.000589\n",
      "         S1   S1_conf\n",
      "A  0.008886  0.011498\n",
      "w  0.773597  0.028853\n",
      "D -0.000584  0.001766\n",
      "              S2   S2_conf\n",
      "(A, w)  0.173060  0.019994\n",
      "(A, D) -0.001307  0.022256\n",
      "(w, D)  0.008012  0.023515\n",
      "         ST   ST_conf\n",
      "A  0.185277  0.007482\n",
      "w  0.995025  0.037134\n",
      "D  0.165136  0.010400\n",
      "         S1   S1_conf\n",
      "A  0.002464  0.014874\n",
      "w  0.676750  0.028967\n",
      "D  0.000668  0.011069\n",
      "              S2   S2_conf\n",
      "(A, w)  0.152642  0.023036\n",
      "(A, D)  0.000340  0.027347\n",
      "(w, D)  0.134020  0.027622\n",
      "         ST   ST_conf\n",
      "A  0.182340  0.007976\n",
      "w  1.003606  0.039938\n",
      "D  0.153261  0.009056\n",
      "         S1   S1_conf\n",
      "A  0.008248  0.013603\n",
      "w  0.686061  0.026508\n",
      "D  0.000604  0.010826\n",
      "              S2   S2_conf\n",
      "(A, w)  0.145122  0.020265\n",
      "(A, D) -0.019704  0.024323\n",
      "(w, D)  0.126325  0.026606\n",
      "         ST   ST_conf\n",
      "A  0.182575  0.007190\n",
      "w  1.021428  0.035770\n",
      "D  0.157581  0.009092\n",
      "         S1   S1_conf\n",
      "A -0.005049  0.015567\n",
      "w  0.712491  0.027613\n",
      "D  0.005293  0.011108\n",
      "              S2   S2_conf\n",
      "(A, w)  0.154558  0.025781\n",
      "(A, D)  0.005693  0.028166\n",
      "(w, D)  0.124222  0.030560\n"
     ]
    }
   ],
   "source": [
    "for x in distances:\n",
    "    for t in timesteps:\n",
    "        \n",
    "        Y = return_hydraulic_head(param_values, x_input = np.array([x]), t_input = np.array([t]))\n",
    "        sobol.analyze(inpt, Y, print_to_console=True)"
   ]
  },
  {
   "cell_type": "code",
   "execution_count": null,
   "metadata": {},
   "outputs": [],
   "source": []
  }
 ],
 "metadata": {
  "colab": {
   "collapsed_sections": [],
   "provenance": []
  },
  "kernelspec": {
   "display_name": "Python 3 (ipykernel)",
   "language": "python",
   "name": "python3"
  },
  "language_info": {
   "codemirror_mode": {
    "name": "ipython",
    "version": 3
   },
   "file_extension": ".py",
   "mimetype": "text/x-python",
   "name": "python",
   "nbconvert_exporter": "python",
   "pygments_lexer": "ipython3",
   "version": "3.9.12"
  }
 },
 "nbformat": 4,
 "nbformat_minor": 1
}
